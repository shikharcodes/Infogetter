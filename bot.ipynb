{
 "cells": [
  {
   "cell_type": "code",
   "execution_count": 1,
   "metadata": {},
   "outputs": [],
   "source": [
    "# required libraries\n",
    "\n",
    "import numpy as np\n",
    "import nltk\n",
    "import string\n",
    "import random\n",
    "from sklearn.feature_extraction.text import TfidfVectorizer\n",
    "from sklearn.metrics.pairwise import cosine_similarity"
   ]
  },
  {
   "cell_type": "code",
   "execution_count": 2,
   "metadata": {},
   "outputs": [
    {
     "name": "stderr",
     "output_type": "stream",
     "text": [
      "[nltk_data] Downloading package punkt to\n",
      "[nltk_data]     C:\\Users\\shikh\\AppData\\Roaming\\nltk_data...\n",
      "[nltk_data]   Package punkt is already up-to-date!\n",
      "[nltk_data] Downloading package wordnet to\n",
      "[nltk_data]     C:\\Users\\shikh\\AppData\\Roaming\\nltk_data...\n",
      "[nltk_data]   Package wordnet is already up-to-date!\n"
     ]
    }
   ],
   "source": [
    "# for importing and reading corpus\n",
    "\n",
    "f = open('data.txt', 'r', errors='ignore')\n",
    "rawdata = f.read()\n",
    "rawdata = rawdata.lower()    #coverts text of datafile into lowercase\n",
    "nltk.download('punkt')\n",
    "nltk.download('wordnet')\n",
    "sent_tokens = nltk.sent_tokenize(rawdata)   #converts data to list of sentences\n",
    "word_tokens = nltk.word_tokenize(rawdata)   #converts data to list of words"
   ]
  },
  {
   "cell_type": "code",
   "execution_count": 3,
   "metadata": {},
   "outputs": [
    {
     "data": {
      "text/plain": [
       "['gaganyaan is an indian crewed orbital spacecraft intended to be the formative spacecraft of the indian human spaceflight programme.',\n",
       " 'the spacecraft is being designed to carry three people, and a planned upgraded version will be equipped with rendezvous and docking capability.',\n",
       " \"in its maiden crewed mission, indian space research organisation (isro)'s largely autonomous 5.3 t (12,000 lb) capsule will orbit the earth at 400 km (250 mi) altitude for up to seven days with a two or three-person crew on board.\"]"
      ]
     },
     "execution_count": 3,
     "metadata": {},
     "output_type": "execute_result"
    }
   ],
   "source": [
    "sent_tokens[:3]"
   ]
  },
  {
   "cell_type": "code",
   "execution_count": 4,
   "metadata": {},
   "outputs": [
    {
     "data": {
      "text/plain": [
       "['gaganyaan', 'is', 'an', 'indian', 'crewed']"
      ]
     },
     "execution_count": 4,
     "metadata": {},
     "output_type": "execute_result"
    }
   ],
   "source": [
    "word_tokens[:5]"
   ]
  },
  {
   "cell_type": "code",
   "execution_count": 5,
   "metadata": {},
   "outputs": [],
   "source": [
    "# for text preprocessing\n",
    "\n",
    "lemmer = nltk.stem.WordNetLemmatizer()\n",
    "\n",
    "def LemTokens(tokens):\n",
    "    return [lemmer.lemmatize(token) for token in tokens]\n",
    "remove_punct_dict = dict((ord(punct), None) for punct in string.punctuation)\n",
    "\n",
    "def LemNormalize(text):\n",
    "    return LemTokens(nltk.word_tokenize(text.lower().translate(remove_punct_dict)))"
   ]
  },
  {
   "cell_type": "code",
   "execution_count": 6,
   "metadata": {},
   "outputs": [],
   "source": [
    "# definition of greet function\n",
    "\n",
    "greet_inputs = (\"hi\", \"hello\", \"hey\", \"greetings\", \"hola\", \"wassup\", \"sup\", \"what's up\")\n",
    "greet_responses = [\"hey\", \"hi\", \"nods\", \"hi there!\", \"hello\", \"I am glad that you are talking to me!\"]\n",
    "\n",
    "def greet(sentence):\n",
    "    for word in sentence.split():\n",
    "        if word.lower() in greet_inputs:\n",
    "            return random.choice(greet_responses)"
   ]
  },
  {
   "cell_type": "code",
   "execution_count": 7,
   "metadata": {},
   "outputs": [],
   "source": [
    "# for response generation\n",
    "\n",
    "def response(user_response):\n",
    "    robo1_response = ''\n",
    "    TfidfVec = TfidfVectorizer(tokenizer=LemNormalize, stop_words='english')\n",
    "    tfidf = TfidfVec.fit_transform(sent_tokens)\n",
    "    vals = cosine_similarity(tfidf[-1], tfidf)\n",
    "    idx = vals.argsort()[0][-2]\n",
    "    flat = vals.flatten()\n",
    "    flat.sort()\n",
    "    req_tfidf = flat[-2]\n",
    "    if req_tfidf==0:\n",
    "        robo1_response = robo1_response + \"I am sorry! I'm not able to understand you friend\"\n",
    "        return robo1_response\n",
    "    else:\n",
    "        robo1_response = robo1_response + sent_tokens[idx]\n",
    "        return robo1_response"
   ]
  },
  {
   "cell_type": "code",
   "execution_count": 8,
   "metadata": {},
   "outputs": [
    {
     "name": "stdout",
     "output_type": "stream",
     "text": [
      "BOT: My name is Goofy. Let's have a coversation! If you want to exit, just type bye\n",
      "hey\n",
      "BOT: hey\n",
      "hi\n",
      "BOT: hi there!\n",
      "mission\n",
      "BOT: "
     ]
    },
    {
     "name": "stderr",
     "output_type": "stream",
     "text": [
      "C:\\Users\\shikh\\anaconda3\\lib\\site-packages\\sklearn\\feature_extraction\\text.py:383: UserWarning: Your stop_words may be inconsistent with your preprocessing. Tokenizing the stop words generated tokens ['ha', 'le', 'u', 'wa'] not in stop_words.\n",
      "  warnings.warn('Your stop_words may be inconsistent with '\n"
     ]
    },
    {
     "name": "stdout",
     "output_type": "stream",
     "text": [
      "\"india's first manned mission gaganyaan may take 1 astronaut\".\n",
      "contents\n",
      "BOT: [14]\n",
      "\n",
      "\n",
      "contents\n",
      "1\thistory\n",
      "1.1\tfunding and infrastructure\n",
      "2\tdescription\n",
      "2.1\tcrew module\n",
      "2.2\tservice module\n",
      "3\tdevelopment\n",
      "3.1\ttest flights\n",
      "3.2\ttest flight profile\n",
      "4\ttesting\n",
      "4.1\tcrew module atmospheric re-entry experiment\n",
      "4.2\tpad abort test\n",
      "4.3\tlong duration hot test - vikas engine\n",
      "4.4\tservice module propulsion system\n",
      "5\tvyommitra\n",
      "6\tsee also\n",
      "7\treferences\n",
      "history\n",
      "preliminary studies and technological development of gaganyaan started in 2006 under the generic name \"orbital vehicle\".\n",
      "crew module\n",
      "BOT: the crew module is mated to the service module, and together they constitute 8.2 t (18,000 lb) orbital module.\n",
      "development\n",
      "BOT: development\n",
      "following two non-crewed orbital flight demonstrations of the spacecraft, a crewed gaganyaan is slated to be launched on the gslv mk iii launcher no earlier than 2023.\n",
      "spacecraft\n",
      "BOT: gaganyaan is an indian crewed orbital spacecraft intended to be the formative spacecraft of the indian human spaceflight programme.\n",
      "first\n",
      "BOT: I am sorry! I'm not able to understand you friend\n",
      "bye\n",
      "BOT: It was my pleasure in assisting you. Goodbye!\n"
     ]
    }
   ],
   "source": [
    "flag = True\n",
    "print(\"BOT: My name is Goofy. Let's have a coversation! If you want to exit, just type bye\")\n",
    "while flag==True:\n",
    "    user_response = input()\n",
    "    user_response = user_response.lower()\n",
    "    if user_response!='bye':\n",
    "        if user_response=='thank you' or user_response=='thanks':\n",
    "            flag = False\n",
    "            print(\"BOT: You are welcome, friend!\")\n",
    "        else:\n",
    "            if greet(user_response)!=None:\n",
    "                print(\"BOT: \" + greet(user_response))\n",
    "            else:\n",
    "                sent_tokens.append(user_response)\n",
    "                word_tokens = word_tokens + nltk.word_tokenize(user_response)\n",
    "                final_words = list(set(word_tokens))\n",
    "                print(\"BOT: \", end=\"\")\n",
    "                print(response(user_response))\n",
    "                sent_tokens.remove(user_response)\n",
    "                \n",
    "    else:\n",
    "        flag = False\n",
    "        print(\"BOT: It was my pleasure in assisting you. Goodbye!\")"
   ]
  },
  {
   "cell_type": "code",
   "execution_count": null,
   "metadata": {},
   "outputs": [],
   "source": []
  }
 ],
 "metadata": {
  "kernelspec": {
   "display_name": "Python 3",
   "language": "python",
   "name": "python3"
  },
  "language_info": {
   "codemirror_mode": {
    "name": "ipython",
    "version": 3
   },
   "file_extension": ".py",
   "mimetype": "text/x-python",
   "name": "python",
   "nbconvert_exporter": "python",
   "pygments_lexer": "ipython3",
   "version": "3.8.5"
  }
 },
 "nbformat": 4,
 "nbformat_minor": 4
}
